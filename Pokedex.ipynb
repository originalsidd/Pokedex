{
  "nbformat": 4,
  "nbformat_minor": 0,
  "metadata": {
    "colab": {
      "name": "Pokedex",
      "provenance": [],
      "toc_visible": true,
      "authorship_tag": "ABX9TyMEnQ3HYSw8U5ibxxvpiRnP",
      "include_colab_link": true
    },
    "kernelspec": {
      "name": "python3",
      "display_name": "Python 3"
    },
    "accelerator": "GPU"
  },
  "cells": [
    {
      "cell_type": "markdown",
      "metadata": {
        "id": "view-in-github",
        "colab_type": "text"
      },
      "source": [
        "<a href=\"https://colab.research.google.com/github/originalsidd/Pokedex/blob/main/Pokedex.ipynb\" target=\"_parent\"><img src=\"https://colab.research.google.com/assets/colab-badge.svg\" alt=\"Open In Colab\"/></a>"
      ]
    },
    {
      "cell_type": "code",
      "metadata": {
        "id": "w4McFsWg5PFN"
      },
      "source": [
        "import matplotlib.pyplot as plt\n",
        "import numpy as np\n",
        "import keras"
      ],
      "execution_count": null,
      "outputs": []
    },
    {
      "cell_type": "code",
      "metadata": {
        "id": "HGzmhpQV6Cwo",
        "colab": {
          "base_uri": "https://localhost:8080/",
          "height": 373
        },
        "outputId": "7f5b6c56-3604-406c-f1e7-f27b227c18b1"
      },
      "source": [
        "!wget \"https://www.dropbox.com/sh/s9r1av3m4eatd3y/AAA8zYti5b5tnyKfcah2Reaja\""
      ],
      "execution_count": null,
      "outputs": [
        {
          "output_type": "stream",
          "text": [
            "--2020-10-19 04:35:43--  https://www.dropbox.com/sh/s9r1av3m4eatd3y/AAA8zYti5b5tnyKfcah2Reaja\n",
            "Resolving www.dropbox.com (www.dropbox.com)... 162.125.1.1, 2620:100:6016:1::a27d:101\n",
            "Connecting to www.dropbox.com (www.dropbox.com)|162.125.1.1|:443... connected.\n",
            "HTTP request sent, awaiting response... 301 Moved Permanently\n",
            "Location: /sh/raw/s9r1av3m4eatd3y/AAA8zYti5b5tnyKfcah2Reaja [following]\n",
            "--2020-10-19 04:35:43--  https://www.dropbox.com/sh/raw/s9r1av3m4eatd3y/AAA8zYti5b5tnyKfcah2Reaja\n",
            "Reusing existing connection to www.dropbox.com:443.\n",
            "HTTP request sent, awaiting response... 302 Found\n",
            "Location: https://uca4193be12b512492feae10bb00.dl.dropboxusercontent.com/zip_download_get/Ak4tHYBcIcUmjlWREaVBaevEZve3BRCgtA987SL69iQ_rqSAY1K4ktbkz4gNoOBOqz__5EIbwsurpCUnVG7T35BvyzfuKgVo5KhapIdL-MYLkw [following]\n",
            "--2020-10-19 04:35:44--  https://uca4193be12b512492feae10bb00.dl.dropboxusercontent.com/zip_download_get/Ak4tHYBcIcUmjlWREaVBaevEZve3BRCgtA987SL69iQ_rqSAY1K4ktbkz4gNoOBOqz__5EIbwsurpCUnVG7T35BvyzfuKgVo5KhapIdL-MYLkw\n",
            "Resolving uca4193be12b512492feae10bb00.dl.dropboxusercontent.com (uca4193be12b512492feae10bb00.dl.dropboxusercontent.com)... 162.125.1.15, 2620:100:6016:15::a27d:10f\n",
            "Connecting to uca4193be12b512492feae10bb00.dl.dropboxusercontent.com (uca4193be12b512492feae10bb00.dl.dropboxusercontent.com)|162.125.1.15|:443... connected.\n",
            "HTTP request sent, awaiting response... 200 OK\n",
            "Length: 108467679 (103M) [application/zip]\n",
            "Saving to: ‘AAA8zYti5b5tnyKfcah2Reaja’\n",
            "\n",
            "AAA8zYti5b5tnyKfcah 100%[===================>] 103.44M  2.52MB/s    in 42s     \n",
            "\n",
            "2020-10-19 04:36:27 (2.44 MB/s) - ‘AAA8zYti5b5tnyKfcah2Reaja’ saved [108467679/108467679]\n",
            "\n"
          ],
          "name": "stdout"
        }
      ]
    },
    {
      "cell_type": "code",
      "metadata": {
        "id": "J28TcFUg6XNf",
        "colab": {
          "base_uri": "https://localhost:8080/",
          "height": 1000
        },
        "outputId": "e6f178bd-ff5f-41ec-cbd2-422f35182305"
      },
      "source": [
        "!unzip AAA8zYti5b5tnyKfcah2Reaja -d dataset/"
      ],
      "execution_count": null,
      "outputs": [
        {
          "output_type": "stream",
          "text": [
            "Archive:  AAA8zYti5b5tnyKfcah2Reaja\n",
            "warning:  stripped absolute path spec from /\n",
            "mapname:  conversion of  failed\n",
            "   creating: dataset/Test/\n",
            "   creating: dataset/Train/\n",
            "   creating: dataset/Test/Pikachu/\n",
            "   creating: dataset/Train/Pikachu/\n",
            "   creating: dataset/Test/Bulbasaur/\n",
            "   creating: dataset/Test/Charmander/\n",
            "   creating: dataset/Train/Bulbasaur/\n",
            "   creating: dataset/Train/Charmander/\n",
            " extracting: dataset/Train/Pikachu/348.jpg  \n",
            " extracting: dataset/Train/Pikachu/319.jpg  \n",
            " extracting: dataset/Test/Pikachu/2032.jpg  \n",
            " extracting: dataset/Test/Pikachu/2011.jpg  \n",
            " extracting: dataset/Train/Pikachu/378.jpg  \n",
            " extracting: dataset/Train/Pikachu/344.jpg  \n",
            " extracting: dataset/Train/Pikachu/379.jpg  \n",
            " extracting: dataset/Train/Pikachu/363.jpg  \n",
            " extracting: dataset/Train/Pikachu/385.jpg  \n",
            " extracting: dataset/Train/Pikachu/302.jpg  \n",
            " extracting: dataset/Test/Pikachu/2000.jpg  \n",
            " extracting: dataset/Train/Pikachu/313.jpg  \n",
            " extracting: dataset/Train/Pikachu/309.jpg  \n",
            " extracting: dataset/Train/Pikachu/342.jpg  \n",
            " extracting: dataset/Train/Pikachu/315.jpg  \n",
            " extracting: dataset/Train/Pikachu/372.jpg  \n",
            " extracting: dataset/Test/Pikachu/2028.jpg  \n",
            " extracting: dataset/Test/Pikachu/2014.jpg  \n",
            " extracting: dataset/Train/Pikachu/370.jpg  \n",
            " extracting: dataset/Train/Pikachu/347.jpg  \n",
            " extracting: dataset/Train/Pikachu/318.jpg  \n",
            " extracting: dataset/Test/Pikachu/2015.jpg  \n",
            " extracting: dataset/Train/Pikachu/355.jpg  \n",
            " extracting: dataset/Train/Pikachu/337.jpg  \n",
            " extracting: dataset/Train/Pikachu/298.jpg  \n",
            " extracting: dataset/Train/Pikachu/368.jpg  \n",
            " extracting: dataset/Train/Pikachu/352.jpg  \n",
            " extracting: dataset/Train/Pikachu/320.jpg  \n",
            " extracting: dataset/Test/Pikachu/2022.jpg  \n",
            " extracting: dataset/Test/Pikachu/2004.jpg  \n",
            " extracting: dataset/Train/Pikachu/314.jpg  \n",
            " extracting: dataset/Train/Pikachu/306.jpg  \n",
            " extracting: dataset/Train/Pikachu/365.jpg  \n",
            " extracting: dataset/Train/Pikachu/384.jpg  \n",
            " extracting: dataset/Train/Pikachu/345.jpg  \n",
            " extracting: dataset/Train/Pikachu/362.jpg  \n",
            " extracting: dataset/Train/Pikachu/316.jpg  \n",
            " extracting: dataset/Train/Pikachu/359.jpg  \n",
            " extracting: dataset/Test/Pikachu/2033.jpg  \n",
            " extracting: dataset/Train/Pikachu/354.jpg  \n",
            " extracting: dataset/Train/Pikachu/341.jpg  \n",
            " extracting: dataset/Train/Pikachu/371.jpg  \n",
            " extracting: dataset/Train/Pikachu/389.jpg  \n",
            " extracting: dataset/Test/Pikachu/2017.jpg  \n",
            " extracting: dataset/Test/Pikachu/2029.jpg  \n",
            " extracting: dataset/Test/Pikachu/2016.jpg  \n",
            " extracting: dataset/Train/Pikachu/336.jpg  \n",
            " extracting: dataset/Test/Pikachu/2030.jpg  \n",
            " extracting: dataset/Train/Pikachu/358.jpg  \n",
            " extracting: dataset/Test/Pikachu/2024.jpg  \n",
            " extracting: dataset/Train/Pikachu/377.jpg  \n",
            " extracting: dataset/Train/Pikachu/394.jpg  \n",
            " extracting: dataset/Test/Pikachu/2005.jpg  \n",
            " extracting: dataset/Test/Pikachu/2023.jpg  \n",
            " extracting: dataset/Train/Pikachu/325.jpg  \n",
            " extracting: dataset/Train/Pikachu/312.jpg  \n",
            " extracting: dataset/Train/Pikachu/304.jpg  \n",
            " extracting: dataset/Train/Pikachu/339.jpg  \n",
            " extracting: dataset/Train/Pikachu/382.jpg  \n",
            " extracting: dataset/Train/Pikachu/317.jpg  \n",
            " extracting: dataset/Test/Pikachu/2008.jpg  \n",
            " extracting: dataset/Train/Pikachu/364.jpg  \n",
            " extracting: dataset/Train/Pikachu/307.jpg  \n",
            " extracting: dataset/Test/Pikachu/2012.jpg  \n",
            " extracting: dataset/Train/Pikachu/391.jpg  \n",
            " extracting: dataset/Train/Pikachu/390.jpg  \n",
            " extracting: dataset/Train/Pikachu/301.jpg  \n",
            " extracting: dataset/Train/Pikachu/322.jpg  \n",
            " extracting: dataset/Train/Pikachu/356.jpg  \n",
            " extracting: dataset/Train/Pikachu/351.jpg  \n",
            " extracting: dataset/Test/Pikachu/2036.jpg  \n",
            " extracting: dataset/Train/Pikachu/361.jpg  \n",
            " extracting: dataset/Test/Pikachu/2031.jpg  \n",
            " extracting: dataset/Test/Pikachu/2013.jpg  \n",
            " extracting: dataset/Test/Pikachu/2003.jpg  \n",
            " extracting: dataset/Train/Pikachu/324.jpg  \n",
            " extracting: dataset/Train/Pikachu/329.jpg  \n",
            " extracting: dataset/Test/Pikachu/2025.jpg  \n",
            " extracting: dataset/Train/Pikachu/383.jpg  \n",
            " extracting: dataset/Train/Pikachu/340.jpg  \n",
            " extracting: dataset/Train/Pikachu/376.jpg  \n",
            " extracting: dataset/Train/Pikachu/387.jpg  \n",
            " extracting: dataset/Test/Pikachu/2009.jpg  \n",
            " extracting: dataset/Train/Pikachu/357.jpg  \n",
            " extracting: dataset/Train/Pikachu/305.jpg  \n",
            " extracting: dataset/Test/Pikachu/2018.jpg  \n",
            " extracting: dataset/Train/Pikachu/311.jpg  \n",
            " extracting: dataset/Train/Pikachu/388.jpg  \n",
            " extracting: dataset/Train/Pikachu/392.jpg  \n",
            " extracting: dataset/Train/Pikachu/393.jpg  \n",
            " extracting: dataset/Train/Pikachu/338.jpg  \n",
            " extracting: dataset/Train/Pikachu/328.jpg  \n",
            " extracting: dataset/Train/Pikachu/375.jpg  \n",
            " extracting: dataset/Train/Pikachu/335.jpg  \n",
            " extracting: dataset/Test/Pikachu/2020.jpg  \n",
            " extracting: dataset/Train/Pikachu/297.jpg  \n",
            " extracting: dataset/Train/Pikachu/333.jpg  \n",
            " extracting: dataset/Train/Pikachu/300.jpg  \n",
            " extracting: dataset/Test/Pikachu/2002.jpg  \n",
            " extracting: dataset/Test/Pikachu/2006.jpg  \n",
            " extracting: dataset/Train/Pikachu/380.jpg  \n",
            " extracting: dataset/Train/Pikachu/349.jpg  \n",
            " extracting: dataset/Train/Pikachu/350.jpg  \n",
            " extracting: dataset/Train/Pikachu/327.jpg  \n",
            " extracting: dataset/Train/Pikachu/367.jpg  \n",
            " extracting: dataset/Train/Pikachu/386.jpg  \n",
            " extracting: dataset/Train/Pikachu/346.jpg  \n",
            " extracting: dataset/Train/Pikachu/310.jpg  \n",
            " extracting: dataset/Train/Pikachu/332.jpg  \n",
            " extracting: dataset/Train/Pikachu/321.jpg  \n",
            " extracting: dataset/Train/Pikachu/330.jpg  \n",
            " extracting: dataset/Test/Pikachu/2037.jpg  \n",
            " extracting: dataset/Test/Pikachu/2019.jpg  \n",
            " extracting: dataset/Train/Pikachu/360.jpg  \n",
            " extracting: dataset/Test/Pikachu/2035.jpg  \n",
            " extracting: dataset/Train/Pikachu/395.jpg  \n",
            " extracting: dataset/Train/Pikachu/373.jpg  \n",
            " extracting: dataset/Test/Pikachu/2010.jpg  \n",
            " extracting: dataset/Test/Pikachu/2001.jpg  \n",
            " extracting: dataset/Train/Pikachu/374.jpg  \n",
            " extracting: dataset/Train/Pikachu/396.jpg  \n",
            " extracting: dataset/Test/Pikachu/2026.jpg  \n",
            " extracting: dataset/Test/Pikachu/2007.jpg  \n",
            " extracting: dataset/Train/Pikachu/296.jpg  \n",
            " extracting: dataset/Train/Pikachu/366.jpg  \n",
            " extracting: dataset/Test/Pikachu/2038.jpg  \n",
            " extracting: dataset/Train/Pikachu/308.jpg  \n",
            " extracting: dataset/Train/Pikachu/323.jpg  \n",
            " extracting: dataset/Train/Pikachu/343.jpg  \n",
            " extracting: dataset/Test/Pikachu/2021.jpg  \n",
            " extracting: dataset/Train/Pikachu/334.jpg  \n",
            " extracting: dataset/Train/Pikachu/381.jpg  \n",
            " extracting: dataset/Train/Pikachu/353.jpg  \n",
            " extracting: dataset/Test/Pikachu/2034.jpg  \n",
            " extracting: dataset/Test/Pikachu/2039.jpg  \n",
            " extracting: dataset/Train/Pikachu/331.jpg  \n",
            " extracting: dataset/Train/Pikachu/303.jpg  \n",
            " extracting: dataset/Train/Pikachu/299.jpg  \n",
            " extracting: dataset/Train/Pikachu/326.jpg  \n",
            " extracting: dataset/Train/Pikachu/369.jpg  \n",
            " extracting: dataset/Test/Pikachu/2027.jpg  \n",
            " extracting: dataset/Test/Bulbasaur/1104.jpg  \n",
            " extracting: dataset/Test/Bulbasaur/1134.jpg  \n",
            " extracting: dataset/Test/Bulbasaur/1111.jpg  \n",
            " extracting: dataset/Test/Bulbasaur/1121.jpg  \n",
            " extracting: dataset/Train/Bulbasaur/411.jpg  \n",
            " extracting: dataset/Train/Bulbasaur/478.jpg  \n",
            " extracting: dataset/Train/Bulbasaur/399.jpg  \n",
            " extracting: dataset/Train/Bulbasaur/404.jpg  \n",
            " extracting: dataset/Train/Bulbasaur/494.jpg  \n",
            " extracting: dataset/Test/Bulbasaur/1108.jpg  \n",
            " extracting: dataset/Train/Bulbasaur/475.jpg  \n",
            " extracting: dataset/Train/Bulbasaur/418.jpg  \n",
            " extracting: dataset/Test/Bulbasaur/1127.jpg  \n",
            " extracting: dataset/Test/Bulbasaur/1117.jpg  \n",
            " extracting: dataset/Train/Bulbasaur/486.jpg  \n",
            " extracting: dataset/Train/Bulbasaur/420.jpg  \n",
            " extracting: dataset/Train/Bulbasaur/470.jpg  \n",
            " extracting: dataset/Train/Bulbasaur/424.jpg  \n",
            " extracting: dataset/Train/Bulbasaur/464.jpg  \n",
            " extracting: dataset/Train/Bulbasaur/492.jpg  \n",
            " extracting: dataset/Train/Bulbasaur/479.jpg  \n",
            " extracting: dataset/Train/Bulbasaur/446.jpg  \n",
            " extracting: dataset/Train/Bulbasaur/400.jpg  \n",
            " extracting: dataset/Train/Bulbasaur/487.jpg  \n",
            " extracting: dataset/Train/Bulbasaur/414.jpg  \n",
            " extracting: dataset/Train/Bulbasaur/465.jpg  \n",
            " extracting: dataset/Train/Bulbasaur/474.jpg  \n",
            " extracting: dataset/Train/Bulbasaur/444.jpg  \n",
            " extracting: dataset/Train/Bulbasaur/410.jpg  \n",
            " extracting: dataset/Train/Bulbasaur/443.jpg  \n",
            " extracting: dataset/Test/Bulbasaur/1101.jpg  \n",
            " extracting: dataset/Test/Bulbasaur/1118.jpg  \n",
            " extracting: dataset/Train/Bulbasaur/423.jpg  \n",
            " extracting: dataset/Train/Bulbasaur/436.jpg  \n",
            " extracting: dataset/Test/Bulbasaur/1131.jpg  \n",
            " extracting: dataset/Train/Bulbasaur/488.jpg  \n",
            " extracting: dataset/Train/Bulbasaur/495.jpg  \n",
            " extracting: dataset/Train/Bulbasaur/419.jpg  \n",
            " extracting: dataset/Train/Bulbasaur/397.jpg  \n",
            " extracting: dataset/Train/Bulbasaur/425.jpg  \n",
            " extracting: dataset/Test/Bulbasaur/1126.jpg  \n",
            " extracting: dataset/Test/Bulbasaur/1110.jpg  \n",
            " extracting: dataset/Train/Bulbasaur/471.jpg  \n",
            " extracting: dataset/Train/Bulbasaur/493.jpg  \n",
            " extracting: dataset/Train/Bulbasaur/442.jpg  \n",
            " extracting: dataset/Train/Bulbasaur/449.jpg  \n",
            " extracting: dataset/Train/Bulbasaur/458.jpg  \n",
            " extracting: dataset/Train/Bulbasaur/483.jpg  \n",
            " extracting: dataset/Train/Bulbasaur/428.jpg  \n",
            " extracting: dataset/Train/Bulbasaur/415.jpg  \n",
            " extracting: dataset/Train/Bulbasaur/401.jpg  \n",
            " extracting: dataset/Train/Bulbasaur/451.jpg  \n",
            " extracting: dataset/Train/Bulbasaur/445.jpg  \n",
            " extracting: dataset/Test/Bulbasaur/1125.jpg  \n",
            " extracting: dataset/Train/Bulbasaur/456.jpg  \n",
            " extracting: dataset/Train/Bulbasaur/448.jpg  \n",
            " extracting: dataset/Train/Bulbasaur/455.jpg  \n",
            " extracting: dataset/Train/Bulbasaur/469.jpg  \n",
            " extracting: dataset/Test/Bulbasaur/1119.jpg  \n",
            " extracting: dataset/Train/Bulbasaur/413.jpg  \n",
            " extracting: dataset/Train/Bulbasaur/450.jpg  \n",
            " extracting: dataset/Test/Bulbasaur/1100.jpg  \n",
            " extracting: dataset/Train/Bulbasaur/437.jpg  \n",
            " extracting: dataset/Test/Bulbasaur/1137.jpg  \n",
            " extracting: dataset/Test/Bulbasaur/1116.jpg  \n",
            " extracting: dataset/Test/Bulbasaur/1106.jpg  \n",
            " extracting: dataset/Train/Bulbasaur/422.jpg  \n",
            " extracting: dataset/Train/Bulbasaur/481.jpg  \n",
            " extracting: dataset/Test/Bulbasaur/1140.jpg  \n",
            " extracting: dataset/Train/Bulbasaur/496.jpg  \n",
            " extracting: dataset/Train/Bulbasaur/407.jpg  \n",
            " extracting: dataset/Train/Bulbasaur/482.jpg  \n",
            " extracting: dataset/Train/Bulbasaur/429.jpg  \n",
            " extracting: dataset/Train/Bulbasaur/489.jpg  \n",
            " extracting: dataset/Train/Bulbasaur/416.jpg  \n",
            " extracting: dataset/Train/Bulbasaur/432.jpg  \n",
            " extracting: dataset/Train/Bulbasaur/460.jpg  \n",
            " extracting: dataset/Test/Bulbasaur/1130.jpg  \n",
            " extracting: dataset/Train/Bulbasaur/468.jpg  \n",
            " extracting: dataset/Train/Bulbasaur/452.jpg  \n",
            " extracting: dataset/Test/Bulbasaur/1123.jpg  \n",
            " extracting: dataset/Test/Bulbasaur/1124.jpg  \n",
            " extracting: dataset/Train/Bulbasaur/433.jpg  \n",
            " extracting: dataset/Train/Bulbasaur/484.jpg  \n",
            " extracting: dataset/Train/Bulbasaur/477.jpg  \n",
            " extracting: dataset/Test/Bulbasaur/1136.jpg  \n",
            " extracting: dataset/Train/Bulbasaur/426.jpg  \n",
            " extracting: dataset/Train/Bulbasaur/412.jpg  \n",
            " extracting: dataset/Train/Bulbasaur/466.jpg  \n",
            " extracting: dataset/Train/Bulbasaur/406.jpg  \n",
            " extracting: dataset/Test/Bulbasaur/1113.jpg  \n",
            " extracting: dataset/Train/Bulbasaur/402.jpg  \n",
            " extracting: dataset/Test/Bulbasaur/1114.jpg  \n",
            " extracting: dataset/Train/Bulbasaur/453.jpg  \n",
            " extracting: dataset/Train/Bulbasaur/480.jpg  \n",
            " extracting: dataset/Train/Bulbasaur/490.jpg  \n",
            " extracting: dataset/Test/Bulbasaur/1103.jpg  \n",
            " extracting: dataset/Train/Bulbasaur/462.jpg  \n",
            " extracting: dataset/Train/Bulbasaur/431.jpg  \n",
            " extracting: dataset/Train/Bulbasaur/430.jpg  \n",
            " extracting: dataset/Train/Bulbasaur/398.jpg  \n",
            " extracting: dataset/Train/Bulbasaur/408.jpg  \n",
            " extracting: dataset/Train/Bulbasaur/497.jpg  \n",
            " extracting: dataset/Train/Bulbasaur/417.jpg  \n",
            " extracting: dataset/Test/Bulbasaur/1139.jpg  \n",
            " extracting: dataset/Train/Bulbasaur/467.jpg  \n",
            " extracting: dataset/Train/Bulbasaur/472.jpg  \n",
            " extracting: dataset/Train/Bulbasaur/459.jpg  \n",
            " extracting: dataset/Train/Bulbasaur/427.jpg  \n",
            " extracting: dataset/Test/Bulbasaur/1128.jpg  \n",
            " extracting: dataset/Test/Bulbasaur/1133.jpg  \n",
            " extracting: dataset/Train/Bulbasaur/461.jpg  \n",
            " extracting: dataset/Test/Bulbasaur/1129.jpg  \n",
            " extracting: dataset/Train/Bulbasaur/485.jpg  \n",
            " extracting: dataset/Train/Bulbasaur/476.jpg  \n",
            " extracting: dataset/Train/Bulbasaur/439.jpg  \n",
            " extracting: dataset/Train/Bulbasaur/405.jpg  \n",
            " extracting: dataset/Train/Bulbasaur/491.jpg  \n",
            " extracting: dataset/Train/Bulbasaur/454.jpg  \n",
            " extracting: dataset/Test/Bulbasaur/1112.jpg  \n",
            " extracting: dataset/Train/Bulbasaur/440.jpg  \n",
            " extracting: dataset/Train/Bulbasaur/403.jpg  \n",
            " extracting: dataset/Test/Bulbasaur/1122.jpg  \n",
            " extracting: dataset/Train/Bulbasaur/434.jpg  \n",
            " extracting: dataset/Test/Bulbasaur/1120.jpg  \n",
            " extracting: dataset/Test/Bulbasaur/1105.jpg  \n",
            " extracting: dataset/Train/Bulbasaur/463.jpg  \n",
            " extracting: dataset/Train/Bulbasaur/473.jpg  \n",
            " extracting: dataset/Test/Bulbasaur/1138.jpg  \n",
            " extracting: dataset/Test/Bulbasaur/1107.jpg  \n",
            " extracting: dataset/Train/Bulbasaur/409.jpg  \n",
            " extracting: dataset/Train/Bulbasaur/441.jpg  \n",
            " extracting: dataset/Test/Bulbasaur/1102.jpg  \n",
            " extracting: dataset/Train/Bulbasaur/457.jpg  \n",
            " extracting: dataset/Test/Bulbasaur/1135.jpg  \n",
            " extracting: dataset/Train/Bulbasaur/421.jpg  \n",
            " extracting: dataset/Test/Bulbasaur/1115.jpg  \n",
            " extracting: dataset/Train/Bulbasaur/438.jpg  \n",
            " extracting: dataset/Train/Bulbasaur/435.jpg  \n",
            " extracting: dataset/Test/Bulbasaur/1132.jpg  \n",
            " extracting: dataset/Train/Bulbasaur/447.jpg  \n",
            " extracting: dataset/Test/Bulbasaur/1109.jpg  \n",
            " extracting: dataset/Train/Charmander/591.jpg  \n",
            " extracting: dataset/Test/Charmander/2218.jpg  \n",
            " extracting: dataset/Test/Charmander/2231.jpg  \n",
            " extracting: dataset/Test/Charmander/2211.jpg  \n",
            " extracting: dataset/Train/Charmander/602.jpg  \n",
            " extracting: dataset/Train/Charmander/529.jpg  \n",
            " extracting: dataset/Test/Charmander/2237.jpg  \n",
            " extracting: dataset/Train/Charmander/566.jpg  \n",
            " extracting: dataset/Train/Charmander/576.jpg  \n",
            " extracting: dataset/Train/Charmander/569.jpg  \n",
            " extracting: dataset/Train/Charmander/586.jpg  \n",
            " extracting: dataset/Train/Charmander/590.jpg  \n",
            " extracting: dataset/Test/Charmander/2220.jpg  \n",
            " extracting: dataset/Train/Charmander/620.jpg  \n",
            " extracting: dataset/Train/Charmander/552.jpg  \n",
            " extracting: dataset/Train/Charmander/585.jpg  \n",
            " extracting: dataset/Train/Charmander/613.jpg  \n",
            " extracting: dataset/Train/Charmander/577.jpg  \n",
            " extracting: dataset/Train/Charmander/554.jpg  \n",
            " extracting: dataset/Train/Charmander/565.jpg  \n",
            " extracting: dataset/Train/Charmander/551.jpg  \n",
            " extracting: dataset/Train/Charmander/583.jpg  \n",
            " extracting: dataset/Train/Charmander/604.jpg  \n",
            " extracting: dataset/Test/Charmander/2216.jpg  \n",
            " extracting: dataset/Test/Charmander/2206.jpg  \n",
            " extracting: dataset/Train/Charmander/558.jpg  \n",
            " extracting: dataset/Train/Charmander/617.jpg  \n",
            " extracting: dataset/Train/Charmander/571.jpg  \n",
            " extracting: dataset/Train/Charmander/562.jpg  \n",
            " extracting: dataset/Test/Charmander/2219.jpg  \n",
            " extracting: dataset/Train/Charmander/534.jpg  \n",
            " extracting: dataset/Train/Charmander/592.jpg  \n",
            " extracting: dataset/Train/Charmander/523.jpg  \n",
            " extracting: dataset/Test/Charmander/2222.jpg  \n",
            " extracting: dataset/Test/Charmander/2207.jpg  \n",
            " extracting: dataset/Test/Charmander/2040.jpg  \n",
            " extracting: dataset/Train/Charmander/553.jpg  \n",
            " extracting: dataset/Test/Charmander/2224.jpg  \n",
            " extracting: dataset/Test/Charmander/2226.jpg  \n",
            " extracting: dataset/Train/Charmander/587.jpg  \n",
            " extracting: dataset/Test/Charmander/2215.jpg  \n",
            " extracting: dataset/Train/Charmander/559.jpg  \n",
            " extracting: dataset/Test/Charmander/2227.jpg  \n",
            " extracting: dataset/Train/Charmander/603.jpg  \n",
            " extracting: dataset/Train/Charmander/574.jpg  \n",
            " extracting: dataset/Train/Charmander/597.jpg  \n",
            " extracting: dataset/Train/Charmander/601.jpg  \n",
            " extracting: dataset/Train/Charmander/532.jpg  \n",
            " extracting: dataset/Train/Charmander/588.jpg  \n",
            " extracting: dataset/Train/Charmander/608.jpg  \n",
            " extracting: dataset/Test/Charmander/2201.jpg  \n",
            " extracting: dataset/Train/Charmander/599.jpg  \n",
            " extracting: dataset/Train/Charmander/578.jpg  \n",
            " extracting: dataset/Train/Charmander/539.jpg  \n",
            " extracting: dataset/Train/Charmander/596.jpg  \n",
            " extracting: dataset/Train/Charmander/570.jpg  \n",
            " extracting: dataset/Train/Charmander/536.jpg  \n",
            " extracting: dataset/Train/Charmander/542.jpg  \n",
            " extracting: dataset/Train/Charmander/607.jpg  \n",
            " extracting: dataset/Train/Charmander/582.jpg  \n",
            " extracting: dataset/Train/Charmander/538.jpg  \n",
            " extracting: dataset/Train/Charmander/614.jpg  \n",
            " extracting: dataset/Train/Charmander/555.jpg  \n",
            " extracting: dataset/Train/Charmander/533.jpg  \n",
            " extracting: dataset/Train/Charmander/526.jpg  \n",
            " extracting: dataset/Train/Charmander/595.jpg  \n",
            " extracting: dataset/Train/Charmander/548.jpg  \n",
            " extracting: dataset/Train/Charmander/572.jpg  \n",
            " extracting: dataset/Train/Charmander/535.jpg  \n",
            " extracting: dataset/Train/Charmander/522.jpg  \n",
            " extracting: dataset/Train/Charmander/609.jpg  \n",
            " extracting: dataset/Test/Charmander/2208.jpg  \n",
            " extracting: dataset/Train/Charmander/618.jpg  \n",
            " extracting: dataset/Train/Charmander/606.jpg  \n",
            " extracting: dataset/Train/Charmander/575.jpg  \n",
            " extracting: dataset/Test/Charmander/2200.jpg  \n",
            " extracting: dataset/Train/Charmander/545.jpg  \n",
            " extracting: dataset/Train/Charmander/528.jpg  \n",
            " extracting: dataset/Train/Charmander/600.jpg  \n",
            " extracting: dataset/Test/Charmander/2232.jpg  \n",
            " extracting: dataset/Test/Charmander/2225.jpg  \n",
            " extracting: dataset/Train/Charmander/619.jpg  \n",
            " extracting: dataset/Train/Charmander/537.jpg  \n",
            " extracting: dataset/Train/Charmander/527.jpg  \n",
            " extracting: dataset/Test/Charmander/2238.jpg  \n",
            " extracting: dataset/Train/Charmander/556.jpg  \n",
            " extracting: dataset/Test/Charmander/2202.jpg  \n",
            " extracting: dataset/Train/Charmander/563.jpg  \n",
            " extracting: dataset/Train/Charmander/579.jpg  \n",
            " extracting: dataset/Test/Charmander/2223.jpg  \n",
            " extracting: dataset/Train/Charmander/550.jpg  \n",
            " extracting: dataset/Test/Charmander/2205.jpg  \n",
            " extracting: dataset/Train/Charmander/573.jpg  \n",
            " extracting: dataset/Test/Charmander/2235.jpg  \n",
            " extracting: dataset/Train/Charmander/564.jpg  \n",
            " extracting: dataset/Train/Charmander/567.jpg  \n",
            " extracting: dataset/Train/Charmander/544.jpg  \n",
            " extracting: dataset/Train/Charmander/543.jpg  \n",
            " extracting: dataset/Test/Charmander/2204.jpg  \n",
            " extracting: dataset/Train/Charmander/498.jpg  \n",
            " extracting: dataset/Train/Charmander/521.jpg  \n",
            " extracting: dataset/Train/Charmander/611.jpg  \n",
            " extracting: dataset/Test/Charmander/2213.jpg  \n",
            " extracting: dataset/Test/Charmander/2209.jpg  \n",
            " extracting: dataset/Train/Charmander/615.jpg  \n",
            " extracting: dataset/Train/Charmander/549.jpg  \n",
            " extracting: dataset/Train/Charmander/581.jpg  \n",
            " extracting: dataset/Test/Charmander/2203.jpg  \n",
            " extracting: dataset/Train/Charmander/546.jpg  \n",
            " extracting: dataset/Train/Charmander/584.jpg  \n",
            " extracting: dataset/Train/Charmander/557.jpg  \n",
            " extracting: dataset/Test/Charmander/2214.jpg  \n",
            " extracting: dataset/Test/Charmander/2229.jpg  \n",
            " extracting: dataset/Test/Charmander/2217.jpg  \n",
            " extracting: dataset/Test/Charmander/2234.jpg  \n",
            " extracting: dataset/Test/Charmander/2233.jpg  \n",
            " extracting: dataset/Train/Charmander/530.jpg  \n",
            " extracting: dataset/Train/Charmander/580.jpg  \n",
            " extracting: dataset/Train/Charmander/524.jpg  \n",
            " extracting: dataset/Train/Charmander/616.jpg  \n",
            " extracting: dataset/Test/Charmander/2228.jpg  \n",
            " extracting: dataset/Test/Charmander/2212.jpg  \n",
            " extracting: dataset/Train/Charmander/560.jpg  \n",
            " extracting: dataset/Test/Charmander/2239.jpg  \n",
            " extracting: dataset/Train/Charmander/540.jpg  \n",
            " extracting: dataset/Train/Charmander/598.jpg  \n",
            " extracting: dataset/Train/Charmander/612.jpg  \n",
            " extracting: dataset/Train/Charmander/610.jpg  \n",
            " extracting: dataset/Train/Charmander/531.jpg  \n",
            " extracting: dataset/Train/Charmander/520.jpg  \n",
            " extracting: dataset/Test/Charmander/2236.jpg  \n",
            " extracting: dataset/Train/Charmander/568.jpg  \n",
            " extracting: dataset/Test/Charmander/2240.jpg  \n",
            " extracting: dataset/Train/Charmander/541.jpg  \n",
            " extracting: dataset/Train/Charmander/561.jpg  \n",
            " extracting: dataset/Test/Charmander/2221.jpg  \n",
            " extracting: dataset/Train/Charmander/547.jpg  \n",
            " extracting: dataset/Train/Charmander/605.jpg  \n",
            " extracting: dataset/Test/Charmander/2210.jpg  \n",
            " extracting: dataset/Train/Charmander/593.jpg  \n",
            " extracting: dataset/Train/Charmander/589.jpg  \n",
            " extracting: dataset/Train/Charmander/594.jpg  \n",
            " extracting: dataset/Test/Charmander/2230.jpg  \n",
            " extracting: dataset/Train/Charmander/525.jpg  \n"
          ],
          "name": "stdout"
        }
      ]
    },
    {
      "cell_type": "markdown",
      "metadata": {
        "id": "hE7XKTsS7SLJ"
      },
      "source": [
        "##Image Augmentation/ Data Generator/ Data Loader"
      ]
    },
    {
      "cell_type": "code",
      "metadata": {
        "id": "wUwZ_epy6ifL"
      },
      "source": [
        "from keras.preprocessing import image"
      ],
      "execution_count": null,
      "outputs": []
    },
    {
      "cell_type": "code",
      "metadata": {
        "id": "DQYsp8Ds7lDX"
      },
      "source": [
        "train_datagen=image.ImageDataGenerator(rotation_range=20,\n",
        "                         width_shift_range=0.2,\n",
        "                         height_shift_range=0.2,\n",
        "                         shear_range=0.2,\n",
        "                         zoom_range=0.3,\n",
        "                         horizontal_flip=True,\n",
        "                         rescale=1/255.\n",
        "                         )"
      ],
      "execution_count": null,
      "outputs": []
    },
    {
      "cell_type": "code",
      "metadata": {
        "id": "p6wIJ8LZ9Rqg"
      },
      "source": [
        "val_datagen=image.ImageDataGenerator(rescale=1/255.)"
      ],
      "execution_count": null,
      "outputs": []
    },
    {
      "cell_type": "code",
      "metadata": {
        "id": "hI6_NFmi9daD",
        "colab": {
          "base_uri": "https://localhost:8080/",
          "height": 34
        },
        "outputId": "0b88df06-67f6-496e-e76a-2aea8d0bc523"
      },
      "source": [
        "train_generator=train_datagen.flow_from_directory(\"dataset/Train\", target_size=(100,100))"
      ],
      "execution_count": null,
      "outputs": [
        {
          "output_type": "stream",
          "text": [
            "Found 304 images belonging to 3 classes.\n"
          ],
          "name": "stdout"
        }
      ]
    },
    {
      "cell_type": "code",
      "metadata": {
        "id": "Nq37TNnA90J9",
        "colab": {
          "base_uri": "https://localhost:8080/",
          "height": 34
        },
        "outputId": "683a8e59-2c5c-4ed7-c151-0e18a52e32c4"
      },
      "source": [
        "train_generator.class_indices"
      ],
      "execution_count": null,
      "outputs": [
        {
          "output_type": "execute_result",
          "data": {
            "text/plain": [
              "{'Bulbasaur': 0, 'Charmander': 1, 'Pikachu': 2}"
            ]
          },
          "metadata": {
            "tags": []
          },
          "execution_count": 8
        }
      ]
    },
    {
      "cell_type": "code",
      "metadata": {
        "id": "vJME-RvR-CrW",
        "colab": {
          "base_uri": "https://localhost:8080/",
          "height": 70
        },
        "outputId": "9b70d259-b63e-4bcc-b209-566d0c9f5504"
      },
      "source": [
        "imgs, labels=next(train_generator)"
      ],
      "execution_count": null,
      "outputs": [
        {
          "output_type": "stream",
          "text": [
            "/usr/local/lib/python3.6/dist-packages/PIL/Image.py:932: UserWarning: Palette images with Transparency expressed in bytes should be converted to RGBA images\n",
            "  \"Palette images with Transparency expressed in bytes should be \"\n"
          ],
          "name": "stderr"
        }
      ]
    },
    {
      "cell_type": "code",
      "metadata": {
        "id": "_4O_oSqkJ8ta",
        "colab": {
          "base_uri": "https://localhost:8080/",
          "height": 840
        },
        "outputId": "5816ad0a-3ec9-465f-9386-ae97b3dbe712"
      },
      "source": [
        "imgs[0]"
      ],
      "execution_count": null,
      "outputs": [
        {
          "output_type": "execute_result",
          "data": {
            "text/plain": [
              "array([[[1.        , 0.9921569 , 0.9843138 ],\n",
              "        [1.        , 0.9921569 , 0.9843138 ],\n",
              "        [1.        , 0.9921569 , 0.9843138 ],\n",
              "        ...,\n",
              "        [1.        , 0.9921569 , 0.9843138 ],\n",
              "        [1.        , 0.9921569 , 0.9843138 ],\n",
              "        [1.        , 0.9921569 , 0.9843138 ]],\n",
              "\n",
              "       [[1.        , 0.9921569 , 0.9843138 ],\n",
              "        [1.        , 0.9921569 , 0.9843138 ],\n",
              "        [1.        , 0.9921569 , 0.9843138 ],\n",
              "        ...,\n",
              "        [1.        , 0.9921569 , 0.9843138 ],\n",
              "        [1.        , 0.9921569 , 0.9843138 ],\n",
              "        [1.        , 0.9921569 , 0.9843138 ]],\n",
              "\n",
              "       [[1.        , 0.9921569 , 0.9843138 ],\n",
              "        [1.        , 0.9921569 , 0.9843138 ],\n",
              "        [1.        , 0.9921569 , 0.9843138 ],\n",
              "        ...,\n",
              "        [1.        , 0.9921569 , 0.9843138 ],\n",
              "        [1.        , 0.9921569 , 0.9843138 ],\n",
              "        [1.        , 0.9921569 , 0.9843138 ]],\n",
              "\n",
              "       ...,\n",
              "\n",
              "       [[0.6862745 , 0.6627451 , 0.5686275 ],\n",
              "        [0.6862745 , 0.6627451 , 0.5686275 ],\n",
              "        [0.6901904 , 0.6653556 , 0.57058537],\n",
              "        ...,\n",
              "        [1.        , 0.9921569 , 0.9843138 ],\n",
              "        [1.        , 0.9921569 , 0.9843138 ],\n",
              "        [1.        , 0.9921569 , 0.9843138 ]],\n",
              "\n",
              "       [[0.6956446 , 0.66899186, 0.5733125 ],\n",
              "        [0.71315527, 0.6806656 , 0.58206785],\n",
              "        [0.73066586, 0.69233936, 0.5908232 ],\n",
              "        ...,\n",
              "        [1.        , 0.9921569 , 0.9843138 ],\n",
              "        [1.        , 0.9921569 , 0.9843138 ],\n",
              "        [1.        , 0.9921569 , 0.9843138 ]],\n",
              "\n",
              "       [[0.749125  , 0.71176714, 0.61537987],\n",
              "        [0.8483517 , 0.82266766, 0.7613016 ],\n",
              "        [0.9475785 , 0.9335681 , 0.9072233 ],\n",
              "        ...,\n",
              "        [1.        , 0.9921569 , 0.9843138 ],\n",
              "        [1.        , 0.9921569 , 0.9843138 ],\n",
              "        [1.        , 0.9921569 , 0.9843138 ]]], dtype=float32)"
            ]
          },
          "metadata": {
            "tags": []
          },
          "execution_count": 10
        }
      ]
    },
    {
      "cell_type": "code",
      "metadata": {
        "id": "3ygNCBZSKuRk",
        "colab": {
          "base_uri": "https://localhost:8080/",
          "height": 285
        },
        "outputId": "897a6daa-7088-4e28-9a41-f5338b94f78d"
      },
      "source": [
        "plt.imshow(imgs[1])"
      ],
      "execution_count": null,
      "outputs": [
        {
          "output_type": "execute_result",
          "data": {
            "text/plain": [
              "<matplotlib.image.AxesImage at 0x7f1b35318f98>"
            ]
          },
          "metadata": {
            "tags": []
          },
          "execution_count": 13
        },
        {
          "output_type": "display_data",
          "data": {
            "image/png": "[encoded data removed]",
            "text/plain": [
              "<Figure size 432x288 with 1 Axes>"
            ]
          },
          "metadata": {
            "tags": [],
            "needs_background": "light"
          }
        }
      ]
    },
    {
      "cell_type": "code",
      "metadata": {
        "id": "D_OiqCRiKxtn",
        "colab": {
          "base_uri": "https://localhost:8080/",
          "height": 34
        },
        "outputId": "c9f9de7b-e509-4f8b-c131-51901ed80c58"
      },
      "source": [
        "labels[1]"
      ],
      "execution_count": null,
      "outputs": [
        {
          "output_type": "execute_result",
          "data": {
            "text/plain": [
              "array([1., 0., 0.], dtype=float32)"
            ]
          },
          "metadata": {
            "tags": []
          },
          "execution_count": 14
        }
      ]
    },
    {
      "cell_type": "code",
      "metadata": {
        "id": "TJ8AqnnLK378",
        "colab": {
          "base_uri": "https://localhost:8080/",
          "height": 34
        },
        "outputId": "d04139bf-9170-438d-e26b-40b265ff6873"
      },
      "source": [
        "val_generator=val_datagen.flow_from_directory(\"dataset/Test\", target_size=(100,100))"
      ],
      "execution_count": null,
      "outputs": [
        {
          "output_type": "stream",
          "text": [
            "Found 123 images belonging to 3 classes.\n"
          ],
          "name": "stdout"
        }
      ]
    },
    {
      "cell_type": "code",
      "metadata": {
        "id": "YFGqrAmFLMXl"
      },
      "source": [
        ""
      ],
      "execution_count": null,
      "outputs": []
    },
    {
      "cell_type": "code",
      "metadata": {
        "id": "eQH2F_dKLabd"
      },
      "source": [
        "from keras.models import Sequential\n",
        "from keras.layers import Conv2D, MaxPool2D, Flatten, Dense # ANN layers are Dense"
      ],
      "execution_count": null,
      "outputs": []
    },
    {
      "cell_type": "code",
      "metadata": {
        "id": "4b5brp5PLah6",
        "colab": {
          "base_uri": "https://localhost:8080/",
          "height": 454
        },
        "outputId": "0ac25e33-7d4e-40a5-b07b-ec1a0f64687b"
      },
      "source": [
        "model = Sequential()\n",
        " # input shape is only required for the first layer \n",
        "model.add( Conv2D(filters=32, kernel_size=(3,3), activation=\"relu\", input_shape=(100,100,3)))\n",
        "model.add( MaxPool2D(pool_size=(2,2)))\n",
        "\n",
        "model.add( Conv2D(filters=64, kernel_size=(3,3), activation=\"relu\"))\n",
        "model.add( MaxPool2D(pool_size=(2,2)))\n",
        "\n",
        "model.add( Conv2D(filters=64, kernel_size=(3,3), activation=\"relu\"))\n",
        "model.add( MaxPool2D(pool_size=(2,2)))\n",
        "\n",
        "model.add( Conv2D(filters=128, kernel_size=(3,3), activation=\"relu\"))\n",
        "model.add( Flatten())\n",
        "\n",
        "model.add( Dense(units=3, activation=\"softmax\"))\n",
        "\n",
        "model.summary()\n"
      ],
      "execution_count": null,
      "outputs": [
        {
          "output_type": "stream",
          "text": [
            "Model: \"sequential_2\"\n",
            "_________________________________________________________________\n",
            "Layer (type)                 Output Shape              Param #   \n",
            "=================================================================\n",
            "conv2d_6 (Conv2D)            (None, 98, 98, 32)        896       \n",
            "_________________________________________________________________\n",
            "max_pooling2d_4 (MaxPooling2 (None, 49, 49, 32)        0         \n",
            "_________________________________________________________________\n",
            "conv2d_7 (Conv2D)            (None, 47, 47, 64)        18496     \n",
            "_________________________________________________________________\n",
            "max_pooling2d_5 (MaxPooling2 (None, 23, 23, 64)        0         \n",
            "_________________________________________________________________\n",
            "conv2d_8 (Conv2D)            (None, 21, 21, 64)        36928     \n",
            "_________________________________________________________________\n",
            "max_pooling2d_6 (MaxPooling2 (None, 10, 10, 64)        0         \n",
            "_________________________________________________________________\n",
            "conv2d_9 (Conv2D)            (None, 8, 8, 128)         73856     \n",
            "_________________________________________________________________\n",
            "flatten_2 (Flatten)          (None, 8192)              0         \n",
            "_________________________________________________________________\n",
            "dense_2 (Dense)              (None, 3)                 24579     \n",
            "=================================================================\n",
            "Total params: 154,755\n",
            "Trainable params: 154,755\n",
            "Non-trainable params: 0\n",
            "_________________________________________________________________\n"
          ],
          "name": "stdout"
        }
      ]
    },
    {
      "cell_type": "code",
      "metadata": {
        "id": "mxULs5gVLank"
      },
      "source": [
        "model.compile(optimizer='adam', loss='categorical_crossentropy', metrics=[\"accuracy\"])"
      ],
      "execution_count": null,
      "outputs": []
    },
    {
      "cell_type": "code",
      "metadata": {
        "id": "LASRnUGdLass",
        "colab": {
          "base_uri": "https://localhost:8080/",
          "height": 406
        },
        "outputId": "5646b58e-8e67-46f2-b8d1-dc73f0761399"
      },
      "source": [
        "hist=model.fit_generator(train_generator, steps_per_epoch=304//32, epochs=10, validation_data=val_generator, validation_steps=123//32)"
      ],
      "execution_count": null,
      "outputs": [
        {
          "output_type": "stream",
          "text": [
            "Epoch 1/10\n",
            "1/9 [==>...........................] - ETA: 0s - loss: 0.1484 - accuracy: 0.9062"
          ],
          "name": "stdout"
        },
        {
          "output_type": "stream",
          "text": [
            "/usr/local/lib/python3.6/dist-packages/PIL/Image.py:932: UserWarning: Palette images with Transparency expressed in bytes should be converted to RGBA images\n",
            "  \"Palette images with Transparency expressed in bytes should be \"\n"
          ],
          "name": "stderr"
        },
        {
          "output_type": "stream",
          "text": [
            "9/9 [==============================] - 12s 1s/step - loss: 0.2125 - accuracy: 0.9228 - val_loss: 0.1524 - val_accuracy: 0.9583\n",
            "Epoch 2/10\n",
            "9/9 [==============================] - 11s 1s/step - loss: 0.1630 - accuracy: 0.9596 - val_loss: 0.1665 - val_accuracy: 0.9479\n",
            "Epoch 3/10\n",
            "9/9 [==============================] - 11s 1s/step - loss: 0.1924 - accuracy: 0.9301 - val_loss: 0.2555 - val_accuracy: 0.9167\n",
            "Epoch 4/10\n",
            "9/9 [==============================] - 11s 1s/step - loss: 0.2029 - accuracy: 0.9375 - val_loss: 0.1797 - val_accuracy: 0.9479\n",
            "Epoch 5/10\n",
            "9/9 [==============================] - 11s 1s/step - loss: 0.2048 - accuracy: 0.9265 - val_loss: 0.1672 - val_accuracy: 0.9271\n",
            "Epoch 6/10\n",
            "9/9 [==============================] - 11s 1s/step - loss: 0.2191 - accuracy: 0.9338 - val_loss: 0.1332 - val_accuracy: 0.9792\n",
            "Epoch 7/10\n",
            "9/9 [==============================] - 11s 1s/step - loss: 0.2131 - accuracy: 0.9449 - val_loss: 0.1248 - val_accuracy: 0.9688\n",
            "Epoch 8/10\n",
            "9/9 [==============================] - 11s 1s/step - loss: 0.1588 - accuracy: 0.9559 - val_loss: 0.0944 - val_accuracy: 0.9896\n",
            "Epoch 9/10\n",
            "9/9 [==============================] - 11s 1s/step - loss: 0.1495 - accuracy: 0.9559 - val_loss: 0.1291 - val_accuracy: 0.9479\n",
            "Epoch 10/10\n",
            "9/9 [==============================] - 12s 1s/step - loss: 0.1397 - accuracy: 0.9583 - val_loss: 0.1093 - val_accuracy: 0.9583\n"
          ],
          "name": "stdout"
        }
      ]
    },
    {
      "cell_type": "code",
      "metadata": {
        "id": "Ih9UMouTRMaA"
      },
      "source": [
        "model_history=hist.history"
      ],
      "execution_count": null,
      "outputs": []
    },
    {
      "cell_type": "code",
      "metadata": {
        "id": "QQhgFrwxLa9A",
        "colab": {
          "base_uri": "https://localhost:8080/",
          "height": 282
        },
        "outputId": "68951092-8c1a-419f-95a0-4b7080fcb004"
      },
      "source": [
        "plt.plot(model_history['accuracy'], label='accuracy')\n",
        "plt.plot(model_history['val_accuracy'], label='val_accuracy')\n",
        "plt.legend()"
      ],
      "execution_count": null,
      "outputs": [
        {
          "output_type": "execute_result",
          "data": {
            "text/plain": [
              "<matplotlib.legend.Legend at 0x7f1b302be908>"
            ]
          },
          "metadata": {
            "tags": []
          },
          "execution_count": 39
        },
        {
          "output_type": "display_data",
          "data": {
            "image/png": "[encoded data removed]",
            "text/plain": [
              "<Figure size 432x288 with 1 Axes>"
            ]
          },
          "metadata": {
            "tags": [],
            "needs_background": "light"
          }
        }
      ]
    },
    {
      "cell_type": "code",
      "metadata": {
        "id": "MLg_UT0nLbIk",
        "colab": {
          "base_uri": "https://localhost:8080/",
          "height": 282
        },
        "outputId": "41f23a54-33d9-4eb1-93eb-47ac0ac8d69b"
      },
      "source": [
        "plt.plot(model_history['loss'], label='training loss')\n",
        "plt.plot(model_history['val_loss'], label='val loss')\n",
        "plt.legend()"
      ],
      "execution_count": null,
      "outputs": [
        {
          "output_type": "execute_result",
          "data": {
            "text/plain": [
              "<matplotlib.legend.Legend at 0x7f1b3026e588>"
            ]
          },
          "metadata": {
            "tags": []
          },
          "execution_count": 40
        },
        {
          "output_type": "display_data",
          "data": {
            "image/png": "[encoded data removed]",
            "text/plain": [
              "<Figure size 432x288 with 1 Axes>"
            ]
          },
          "metadata": {
            "tags": [],
            "needs_background": "light"
          }
        }
      ]
    },
    {
      "cell_type": "code",
      "metadata": {
        "id": "-zK3SApWTijM",
        "colab": {
          "base_uri": "https://localhost:8080/",
          "height": 50
        },
        "outputId": "df4e6ab0-c77c-4304-df91-85989282e2fb"
      },
      "source": [
        "model.evaluate(val_generator)"
      ],
      "execution_count": null,
      "outputs": [
        {
          "output_type": "stream",
          "text": [
            "4/4 [==============================] - 2s 470ms/step - loss: 0.1259 - accuracy: 0.9512\n"
          ],
          "name": "stdout"
        },
        {
          "output_type": "execute_result",
          "data": {
            "text/plain": [
              "[0.125860795378685, 0.9512194991111755]"
            ]
          },
          "metadata": {
            "tags": []
          },
          "execution_count": 41
        }
      ]
    },
    {
      "cell_type": "code",
      "metadata": {
        "id": "EZmlkWzNTns2"
      },
      "source": [
        "test_img=image.load_img(\"./pic.jpg\", target_size=(100,100))\n",
        "test_img=np.array(test_img)/255."
      ],
      "execution_count": null,
      "outputs": []
    },
    {
      "cell_type": "code",
      "metadata": {
        "id": "b4YOB6AOUc9x",
        "colab": {
          "base_uri": "https://localhost:8080/",
          "height": 285
        },
        "outputId": "e170e707-6366-4b0a-aa77-0962552f0f89"
      },
      "source": [
        "plt.imshow(test_img)"
      ],
      "execution_count": null,
      "outputs": [
        {
          "output_type": "execute_result",
          "data": {
            "text/plain": [
              "<matplotlib.image.AxesImage at 0x7f1ad733fba8>"
            ]
          },
          "metadata": {
            "tags": []
          },
          "execution_count": 51
        },
        {
          "output_type": "display_data",
          "data": {
            "image/png": "[encoded data removed]",
            "text/plain": [
              "<Figure size 432x288 with 1 Axes>"
            ]
          },
          "metadata": {
            "tags": [],
            "needs_background": "light"
          }
        }
      ]
    },
    {
      "cell_type": "code",
      "metadata": {
        "id": "IAkrWbWJUekI"
      },
      "source": [
        "test_img=test_img.reshape(1,100,100,3)\n",
        "pred=model.predict_classes(test_img)"
      ],
      "execution_count": null,
      "outputs": []
    },
    {
      "cell_type": "code",
      "metadata": {
        "id": "WXOnZyb2UnIy"
      },
      "source": [
        " dic=train_generator.class_indices"
      ],
      "execution_count": null,
      "outputs": []
    },
    {
      "cell_type": "code",
      "metadata": {
        "id": "1Z7KhttSVwpf"
      },
      "source": [
        "rev_dic={v:k for k,v in dic.items()}"
      ],
      "execution_count": null,
      "outputs": []
    },
    {
      "cell_type": "code",
      "metadata": {
        "id": "PHKTmRAjV9qR",
        "colab": {
          "base_uri": "https://localhost:8080/",
          "height": 34
        },
        "outputId": "a8799a38-c9f0-45e3-b6ed-2be613af670e"
      },
      "source": [
        "dic"
      ],
      "execution_count": null,
      "outputs": [
        {
          "output_type": "execute_result",
          "data": {
            "text/plain": [
              "{'Bulbasaur': 0, 'Charmander': 1, 'Pikachu': 2}"
            ]
          },
          "metadata": {
            "tags": []
          },
          "execution_count": 31
        }
      ]
    },
    {
      "cell_type": "code",
      "metadata": {
        "id": "McjSjjynV-fM",
        "colab": {
          "base_uri": "https://localhost:8080/",
          "height": 34
        },
        "outputId": "125dd49c-afc2-4d49-bd2b-5529dfa384b8"
      },
      "source": [
        "rev_dic"
      ],
      "execution_count": null,
      "outputs": [
        {
          "output_type": "execute_result",
          "data": {
            "text/plain": [
              "{0: 'Bulbasaur', 1: 'Charmander', 2: 'Pikachu'}"
            ]
          },
          "metadata": {
            "tags": []
          },
          "execution_count": 32
        }
      ]
    },
    {
      "cell_type": "code",
      "metadata": {
        "id": "MVz3Jm9WWAA3",
        "colab": {
          "base_uri": "https://localhost:8080/",
          "height": 35
        },
        "outputId": "e07756ad-d527-4bba-dd70-fbf58670756d"
      },
      "source": [
        "rev_dic[pred[0]]"
      ],
      "execution_count": null,
      "outputs": [
        {
          "output_type": "execute_result",
          "data": {
            "application/vnd.google.colaboratory.intrinsic+json": {
              "type": "string"
            },
            "text/plain": [
              "'Charmander'"
            ]
          },
          "metadata": {
            "tags": []
          },
          "execution_count": 53
        }
      ]
    },
    {
      "cell_type": "markdown",
      "metadata": {
        "id": "embndv4TWSDb"
      },
      "source": [
        "#Test for new images"
      ]
    },
    {
      "cell_type": "code",
      "metadata": {
        "id": "Ye4DwO3aWH9r"
      },
      "source": [
        "test_img2=image.load_img(\"./pic2.jpg\", target_size=(100,100))\n",
        "test_img2=np.array(test_img)/255."
      ],
      "execution_count": null,
      "outputs": []
    },
    {
      "cell_type": "code",
      "metadata": {
        "id": "Bh0zhll7Wsag",
        "colab": {
          "base_uri": "https://localhost:8080/",
          "height": 555
        },
        "outputId": "b8b04ad2-04cc-4e19-ad61-0ef5041a8be7"
      },
      "source": [
        "plt.imshow(test_img2)"
      ],
      "execution_count": null,
      "outputs": [
        {
          "output_type": "error",
          "ename": "TypeError",
          "evalue": "ignored",
          "traceback": [
            "\u001b[0;31m---------------------------------------------------------------------------\u001b[0m",
            "\u001b[0;31mTypeError\u001b[0m                                 Traceback (most recent call last)",
            "\u001b[0;32m<ipython-input-56-b5367b14f4ad>\u001b[0m in \u001b[0;36m<module>\u001b[0;34m()\u001b[0m\n\u001b[0;32m----> 1\u001b[0;31m \u001b[0mplt\u001b[0m\u001b[0;34m.\u001b[0m\u001b[0mimshow\u001b[0m\u001b[0;34m(\u001b[0m\u001b[0mtest_img2\u001b[0m\u001b[0;34m)\u001b[0m\u001b[0;34m\u001b[0m\u001b[0;34m\u001b[0m\u001b[0m\n\u001b[0m",
            "\u001b[0;32m/usr/local/lib/python3.6/dist-packages/matplotlib/pyplot.py\u001b[0m in \u001b[0;36mimshow\u001b[0;34m(X, cmap, norm, aspect, interpolation, alpha, vmin, vmax, origin, extent, shape, filternorm, filterrad, imlim, resample, url, data, **kwargs)\u001b[0m\n\u001b[1;32m   2649\u001b[0m         \u001b[0mfilternorm\u001b[0m\u001b[0;34m=\u001b[0m\u001b[0mfilternorm\u001b[0m\u001b[0;34m,\u001b[0m \u001b[0mfilterrad\u001b[0m\u001b[0;34m=\u001b[0m\u001b[0mfilterrad\u001b[0m\u001b[0;34m,\u001b[0m \u001b[0mimlim\u001b[0m\u001b[0;34m=\u001b[0m\u001b[0mimlim\u001b[0m\u001b[0;34m,\u001b[0m\u001b[0;34m\u001b[0m\u001b[0;34m\u001b[0m\u001b[0m\n\u001b[1;32m   2650\u001b[0m         resample=resample, url=url, **({\"data\": data} if data is not\n\u001b[0;32m-> 2651\u001b[0;31m         None else {}), **kwargs)\n\u001b[0m\u001b[1;32m   2652\u001b[0m     \u001b[0msci\u001b[0m\u001b[0;34m(\u001b[0m\u001b[0m__ret\u001b[0m\u001b[0;34m)\u001b[0m\u001b[0;34m\u001b[0m\u001b[0;34m\u001b[0m\u001b[0m\n\u001b[1;32m   2653\u001b[0m     \u001b[0;32mreturn\u001b[0m \u001b[0m__ret\u001b[0m\u001b[0;34m\u001b[0m\u001b[0;34m\u001b[0m\u001b[0m\n",
            "\u001b[0;32m/usr/local/lib/python3.6/dist-packages/matplotlib/__init__.py\u001b[0m in \u001b[0;36minner\u001b[0;34m(ax, data, *args, **kwargs)\u001b[0m\n\u001b[1;32m   1563\u001b[0m     \u001b[0;32mdef\u001b[0m \u001b[0minner\u001b[0m\u001b[0;34m(\u001b[0m\u001b[0max\u001b[0m\u001b[0;34m,\u001b[0m \u001b[0;34m*\u001b[0m\u001b[0margs\u001b[0m\u001b[0;34m,\u001b[0m \u001b[0mdata\u001b[0m\u001b[0;34m=\u001b[0m\u001b[0;32mNone\u001b[0m\u001b[0;34m,\u001b[0m \u001b[0;34m**\u001b[0m\u001b[0mkwargs\u001b[0m\u001b[0;34m)\u001b[0m\u001b[0;34m:\u001b[0m\u001b[0;34m\u001b[0m\u001b[0;34m\u001b[0m\u001b[0m\n\u001b[1;32m   1564\u001b[0m         \u001b[0;32mif\u001b[0m \u001b[0mdata\u001b[0m \u001b[0;32mis\u001b[0m \u001b[0;32mNone\u001b[0m\u001b[0;34m:\u001b[0m\u001b[0;34m\u001b[0m\u001b[0;34m\u001b[0m\u001b[0m\n\u001b[0;32m-> 1565\u001b[0;31m             \u001b[0;32mreturn\u001b[0m \u001b[0mfunc\u001b[0m\u001b[0;34m(\u001b[0m\u001b[0max\u001b[0m\u001b[0;34m,\u001b[0m \u001b[0;34m*\u001b[0m\u001b[0mmap\u001b[0m\u001b[0;34m(\u001b[0m\u001b[0msanitize_sequence\u001b[0m\u001b[0;34m,\u001b[0m \u001b[0margs\u001b[0m\u001b[0;34m)\u001b[0m\u001b[0;34m,\u001b[0m \u001b[0;34m**\u001b[0m\u001b[0mkwargs\u001b[0m\u001b[0;34m)\u001b[0m\u001b[0;34m\u001b[0m\u001b[0;34m\u001b[0m\u001b[0m\n\u001b[0m\u001b[1;32m   1566\u001b[0m \u001b[0;34m\u001b[0m\u001b[0m\n\u001b[1;32m   1567\u001b[0m         \u001b[0mbound\u001b[0m \u001b[0;34m=\u001b[0m \u001b[0mnew_sig\u001b[0m\u001b[0;34m.\u001b[0m\u001b[0mbind\u001b[0m\u001b[0;34m(\u001b[0m\u001b[0max\u001b[0m\u001b[0;34m,\u001b[0m \u001b[0;34m*\u001b[0m\u001b[0margs\u001b[0m\u001b[0;34m,\u001b[0m \u001b[0;34m**\u001b[0m\u001b[0mkwargs\u001b[0m\u001b[0;34m)\u001b[0m\u001b[0;34m\u001b[0m\u001b[0;34m\u001b[0m\u001b[0m\n",
            "\u001b[0;32m/usr/local/lib/python3.6/dist-packages/matplotlib/cbook/deprecation.py\u001b[0m in \u001b[0;36mwrapper\u001b[0;34m(*args, **kwargs)\u001b[0m\n\u001b[1;32m    356\u001b[0m                 \u001b[0;34mf\"%(removal)s.  If any parameter follows {name!r}, they \"\u001b[0m\u001b[0;34m\u001b[0m\u001b[0;34m\u001b[0m\u001b[0m\n\u001b[1;32m    357\u001b[0m                 f\"should be pass as keyword, not positionally.\")\n\u001b[0;32m--> 358\u001b[0;31m         \u001b[0;32mreturn\u001b[0m \u001b[0mfunc\u001b[0m\u001b[0;34m(\u001b[0m\u001b[0;34m*\u001b[0m\u001b[0margs\u001b[0m\u001b[0;34m,\u001b[0m \u001b[0;34m**\u001b[0m\u001b[0mkwargs\u001b[0m\u001b[0;34m)\u001b[0m\u001b[0;34m\u001b[0m\u001b[0;34m\u001b[0m\u001b[0m\n\u001b[0m\u001b[1;32m    359\u001b[0m \u001b[0;34m\u001b[0m\u001b[0m\n\u001b[1;32m    360\u001b[0m     \u001b[0;32mreturn\u001b[0m \u001b[0mwrapper\u001b[0m\u001b[0;34m\u001b[0m\u001b[0;34m\u001b[0m\u001b[0m\n",
            "\u001b[0;32m/usr/local/lib/python3.6/dist-packages/matplotlib/cbook/deprecation.py\u001b[0m in \u001b[0;36mwrapper\u001b[0;34m(*args, **kwargs)\u001b[0m\n\u001b[1;32m    356\u001b[0m                 \u001b[0;34mf\"%(removal)s.  If any parameter follows {name!r}, they \"\u001b[0m\u001b[0;34m\u001b[0m\u001b[0;34m\u001b[0m\u001b[0m\n\u001b[1;32m    357\u001b[0m                 f\"should be pass as keyword, not positionally.\")\n\u001b[0;32m--> 358\u001b[0;31m         \u001b[0;32mreturn\u001b[0m \u001b[0mfunc\u001b[0m\u001b[0;34m(\u001b[0m\u001b[0;34m*\u001b[0m\u001b[0margs\u001b[0m\u001b[0;34m,\u001b[0m \u001b[0;34m**\u001b[0m\u001b[0mkwargs\u001b[0m\u001b[0;34m)\u001b[0m\u001b[0;34m\u001b[0m\u001b[0;34m\u001b[0m\u001b[0m\n\u001b[0m\u001b[1;32m    359\u001b[0m \u001b[0;34m\u001b[0m\u001b[0m\n\u001b[1;32m    360\u001b[0m     \u001b[0;32mreturn\u001b[0m \u001b[0mwrapper\u001b[0m\u001b[0;34m\u001b[0m\u001b[0;34m\u001b[0m\u001b[0m\n",
            "\u001b[0;32m/usr/local/lib/python3.6/dist-packages/matplotlib/axes/_axes.py\u001b[0m in \u001b[0;36mimshow\u001b[0;34m(self, X, cmap, norm, aspect, interpolation, alpha, vmin, vmax, origin, extent, shape, filternorm, filterrad, imlim, resample, url, **kwargs)\u001b[0m\n\u001b[1;32m   5624\u001b[0m                               resample=resample, **kwargs)\n\u001b[1;32m   5625\u001b[0m \u001b[0;34m\u001b[0m\u001b[0m\n\u001b[0;32m-> 5626\u001b[0;31m         \u001b[0mim\u001b[0m\u001b[0;34m.\u001b[0m\u001b[0mset_data\u001b[0m\u001b[0;34m(\u001b[0m\u001b[0mX\u001b[0m\u001b[0;34m)\u001b[0m\u001b[0;34m\u001b[0m\u001b[0;34m\u001b[0m\u001b[0m\n\u001b[0m\u001b[1;32m   5627\u001b[0m         \u001b[0mim\u001b[0m\u001b[0;34m.\u001b[0m\u001b[0mset_alpha\u001b[0m\u001b[0;34m(\u001b[0m\u001b[0malpha\u001b[0m\u001b[0;34m)\u001b[0m\u001b[0;34m\u001b[0m\u001b[0;34m\u001b[0m\u001b[0m\n\u001b[1;32m   5628\u001b[0m         \u001b[0;32mif\u001b[0m \u001b[0mim\u001b[0m\u001b[0;34m.\u001b[0m\u001b[0mget_clip_path\u001b[0m\u001b[0;34m(\u001b[0m\u001b[0;34m)\u001b[0m \u001b[0;32mis\u001b[0m \u001b[0;32mNone\u001b[0m\u001b[0;34m:\u001b[0m\u001b[0;34m\u001b[0m\u001b[0;34m\u001b[0m\u001b[0m\n",
            "\u001b[0;32m/usr/local/lib/python3.6/dist-packages/matplotlib/image.py\u001b[0m in \u001b[0;36mset_data\u001b[0;34m(self, A)\u001b[0m\n\u001b[1;32m    697\u001b[0m                 or self._A.ndim == 3 and self._A.shape[-1] in [3, 4]):\n\u001b[1;32m    698\u001b[0m             raise TypeError(\"Invalid shape {} for image data\"\n\u001b[0;32m--> 699\u001b[0;31m                             .format(self._A.shape))\n\u001b[0m\u001b[1;32m    700\u001b[0m \u001b[0;34m\u001b[0m\u001b[0m\n\u001b[1;32m    701\u001b[0m         \u001b[0;32mif\u001b[0m \u001b[0mself\u001b[0m\u001b[0;34m.\u001b[0m\u001b[0m_A\u001b[0m\u001b[0;34m.\u001b[0m\u001b[0mndim\u001b[0m \u001b[0;34m==\u001b[0m \u001b[0;36m3\u001b[0m\u001b[0;34m:\u001b[0m\u001b[0;34m\u001b[0m\u001b[0;34m\u001b[0m\u001b[0m\n",
            "\u001b[0;31mTypeError\u001b[0m: Invalid shape (1, 100, 100, 3) for image data"
          ]
        },
        {
          "output_type": "display_data",
          "data": {
            "image/png": "[encoded data removed]",
            "text/plain": [
              "<Figure size 432x288 with 1 Axes>"
            ]
          },
          "metadata": {
            "tags": [],
            "needs_background": "light"
          }
        }
      ]
    },
    {
      "cell_type": "code",
      "metadata": {
        "id": "8GS3aFILWvkj"
      },
      "source": [
        "test_img2=test_img2.reshape(1,100,100,3)\n",
        "pred=model.predict_classes(test_img2)"
      ],
      "execution_count": null,
      "outputs": []
    },
    {
      "cell_type": "code",
      "metadata": {
        "id": "zIvDmamzWz9_"
      },
      "source": [
        "dic=train_generator.class_indices"
      ],
      "execution_count": null,
      "outputs": []
    },
    {
      "cell_type": "code",
      "metadata": {
        "id": "kEr0EF0EW2tN",
        "colab": {
          "base_uri": "https://localhost:8080/",
          "height": 34
        },
        "outputId": "c6a47d3e-7184-478d-c1cd-745d1873370e"
      },
      "source": [
        "pred"
      ],
      "execution_count": null,
      "outputs": [
        {
          "output_type": "execute_result",
          "data": {
            "text/plain": [
              "array([1])"
            ]
          },
          "metadata": {
            "tags": []
          },
          "execution_count": 54
        }
      ]
    },
    {
      "cell_type": "code",
      "metadata": {
        "id": "F8PPt7pcW7vS"
      },
      "source": [
        ""
      ],
      "execution_count": null,
      "outputs": []
    }
  ]
}